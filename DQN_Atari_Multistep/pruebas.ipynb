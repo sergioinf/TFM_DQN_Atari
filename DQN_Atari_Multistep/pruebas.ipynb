{
 "cells": [
  {
   "cell_type": "code",
   "execution_count": 1,
   "metadata": {},
   "outputs": [],
   "source": [
    "from memoria import Memory\n",
    "import random\n",
    "import numpy as np\n",
    "memoria  = Memory(100)"
   ]
  },
  {
   "cell_type": "code",
   "execution_count": 2,
   "metadata": {},
   "outputs": [],
   "source": [
    "indices = [13,18,35,38,45,48,51,57,58,60,62,67,72,76,86]"
   ]
  },
  {
   "cell_type": "code",
   "execution_count": 3,
   "metadata": {},
   "outputs": [],
   "source": [
    "for i in range(100):\n",
    "    if i in indices:\n",
    "        aleatorio = True\n",
    "    else:\n",
    "        aleatorio = False\n",
    "    memoria.save(\"a{}\".format(i), random.randint(0, 3), random.randint(0,1), \"b{}\".format(i), float(aleatorio))"
   ]
  },
  {
   "cell_type": "code",
   "execution_count": 4,
   "metadata": {},
   "outputs": [
    {
     "name": "stdout",
     "output_type": "stream",
     "text": [
      "0\n",
      "1\n"
     ]
    }
   ],
   "source": [
    "estados, acciones, recompensas, estados_sig, dones, gammas, miramos = memoria.sample(5, gamma=.9 , nSteps=4)"
   ]
  },
  {
   "cell_type": "code",
   "execution_count": 5,
   "metadata": {},
   "outputs": [
    {
     "name": "stdout",
     "output_type": "stream",
     "text": [
      "a43 1 1 b43 0.0\n"
     ]
    },
    {
     "ename": "IndexError",
     "evalue": "index 1 is out of bounds for axis 0 with size 1",
     "output_type": "error",
     "traceback": [
      "\u001b[0;31m---------------------------------------------------------------------------\u001b[0m",
      "\u001b[0;31mIndexError\u001b[0m                                Traceback (most recent call last)",
      "\u001b[1;32m/home/ertis/sergio/DQN_Atari_Multistep/pruebas.ipynb Cell 5\u001b[0m in \u001b[0;36m<cell line: 3>\u001b[0;34m()\u001b[0m\n\u001b[1;32m      <a href='vscode-notebook-cell://ssh-remote%2B7b22686f73744e616d65223a224e6f646536227d/home/ertis/sergio/DQN_Atari_Multistep/pruebas.ipynb#ch0000006vscode-remote?line=0'>1</a>\u001b[0m pepe \u001b[39m=\u001b[39m \u001b[39m43\u001b[39m\n\u001b[1;32m      <a href='vscode-notebook-cell://ssh-remote%2B7b22686f73744e616d65223a224e6f646536227d/home/ertis/sergio/DQN_Atari_Multistep/pruebas.ipynb#ch0000006vscode-remote?line=1'>2</a>\u001b[0m \u001b[39mprint\u001b[39m(\u001b[39m\"\u001b[39m\u001b[39m{}\u001b[39;00m\u001b[39m \u001b[39m\u001b[39m{}\u001b[39;00m\u001b[39m \u001b[39m\u001b[39m{}\u001b[39;00m\u001b[39m \u001b[39m\u001b[39m{}\u001b[39;00m\u001b[39m \u001b[39m\u001b[39m{}\u001b[39;00m\u001b[39m\"\u001b[39m\u001b[39m.\u001b[39mformat(memoria\u001b[39m.\u001b[39mmemory[pepe][\u001b[39m0\u001b[39m],memoria\u001b[39m.\u001b[39mmemory[pepe][\u001b[39m1\u001b[39m],memoria\u001b[39m.\u001b[39mmemory[pepe][\u001b[39m2\u001b[39m],memoria\u001b[39m.\u001b[39mmemory[pepe][\u001b[39m3\u001b[39m],memoria\u001b[39m.\u001b[39mmemory[pepe][\u001b[39m4\u001b[39m]))\n\u001b[0;32m----> <a href='vscode-notebook-cell://ssh-remote%2B7b22686f73744e616d65223a224e6f646536227d/home/ertis/sergio/DQN_Atari_Multistep/pruebas.ipynb#ch0000006vscode-remote?line=2'>3</a>\u001b[0m \u001b[39mprint\u001b[39m(\u001b[39m\"\u001b[39m\u001b[39m{}\u001b[39;00m\u001b[39m \u001b[39m\u001b[39m{}\u001b[39;00m\u001b[39m \u001b[39m\u001b[39m{}\u001b[39;00m\u001b[39m \u001b[39m\u001b[39m{}\u001b[39;00m\u001b[39m \u001b[39m\u001b[39m{}\u001b[39;00m\u001b[39m\"\u001b[39m\u001b[39m.\u001b[39mformat(estados[\u001b[39m1\u001b[39;49m], acciones[\u001b[39m1\u001b[39m], recompensas[\u001b[39m1\u001b[39m], estados_sig[\u001b[39m1\u001b[39m], dones[\u001b[39m1\u001b[39m]))\n",
      "\u001b[0;31mIndexError\u001b[0m: index 1 is out of bounds for axis 0 with size 1"
     ]
    }
   ],
   "source": [
    "pepe = 43\n",
    "print(\"{} {} {} {} {}\".format(memoria.memory[pepe][0],memoria.memory[pepe][1],memoria.memory[pepe][2],memoria.memory[pepe][3],memoria.memory[pepe][4]))\n",
    "print(\"{} {} {} {} {}\".format(estados[1], acciones[1], recompensas[1], estados_sig[1], dones[1]))"
   ]
  },
  {
   "cell_type": "code",
   "execution_count": null,
   "metadata": {},
   "outputs": [
    {
     "data": {
      "text/plain": [
       "0"
      ]
     },
     "execution_count": 14,
     "metadata": {},
     "output_type": "execute_result"
    }
   ],
   "source": [
    "memoria.memory[72][2]"
   ]
  },
  {
   "cell_type": "code",
   "execution_count": null,
   "metadata": {},
   "outputs": [
    {
     "data": {
      "text/plain": [
       "1.9"
      ]
     },
     "execution_count": 15,
     "metadata": {},
     "output_type": "execute_result"
    }
   ],
   "source": [
    "1+1*0.9"
   ]
  },
  {
   "cell_type": "code",
   "execution_count": null,
   "metadata": {},
   "outputs": [
    {
     "name": "stdout",
     "output_type": "stream",
     "text": [
      "[69 12  8 78 37]\n"
     ]
    }
   ],
   "source": [
    "print(miramos)"
   ]
  }
 ],
 "metadata": {
  "kernelspec": {
   "display_name": "Python 3.8.10 ('env': venv)",
   "language": "python",
   "name": "python3"
  },
  "language_info": {
   "codemirror_mode": {
    "name": "ipython",
    "version": 3
   },
   "file_extension": ".py",
   "mimetype": "text/x-python",
   "name": "python",
   "nbconvert_exporter": "python",
   "pygments_lexer": "ipython3",
   "version": "3.8.10"
  },
  "orig_nbformat": 4,
  "vscode": {
   "interpreter": {
    "hash": "126138c1a1422bd3c098ddbe5dc3ab52dd2e1e18f55c4eb4cba4d9cf3f32664f"
   }
  }
 },
 "nbformat": 4,
 "nbformat_minor": 2
}
