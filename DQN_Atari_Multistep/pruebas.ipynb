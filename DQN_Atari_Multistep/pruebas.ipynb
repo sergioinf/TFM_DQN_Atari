{
 "cells": [
  {
   "cell_type": "code",
   "execution_count": 2,
   "metadata": {},
   "outputs": [
    {
     "ename": "UnregisteredEnv",
     "evalue": "No registered env with id: BreakoutgNoFrameskip-v4",
     "output_type": "error",
     "traceback": [
      "\u001b[0;31m---------------------------------------------------------------------------\u001b[0m",
      "\u001b[0;31mKeyError\u001b[0m                                  Traceback (most recent call last)",
      "File \u001b[0;32m~/sergio/env/lib/python3.8/site-packages/gym/envs/registration.py:158\u001b[0m, in \u001b[0;36mEnvRegistry.spec\u001b[0;34m(self, path)\u001b[0m\n\u001b[1;32m    157\u001b[0m \u001b[39mtry\u001b[39;00m:\n\u001b[0;32m--> 158\u001b[0m     \u001b[39mreturn\u001b[39;00m \u001b[39mself\u001b[39;49m\u001b[39m.\u001b[39;49menv_specs[\u001b[39mid\u001b[39;49m]\n\u001b[1;32m    159\u001b[0m \u001b[39mexcept\u001b[39;00m \u001b[39mKeyError\u001b[39;00m:\n\u001b[1;32m    160\u001b[0m     \u001b[39m# Parse the env name and check to see if it matches the non-version\u001b[39;00m\n\u001b[1;32m    161\u001b[0m     \u001b[39m# part of a valid env (could also check the exact number here)\u001b[39;00m\n",
      "\u001b[0;31mKeyError\u001b[0m: 'BreakoutgNoFrameskip-v4'",
      "\nDuring handling of the above exception, another exception occurred:\n",
      "\u001b[0;31mUnregisteredEnv\u001b[0m                           Traceback (most recent call last)",
      "\u001b[1;32m/home/ertis/sergio/DQN_Atari_Multistep/pruebas.ipynb Celda 1\u001b[0m in \u001b[0;36m<cell line: 19>\u001b[0;34m()\u001b[0m\n\u001b[1;32m     <a href='vscode-notebook-cell://ssh-remote%2B7b22686f73744e616d65223a224e6f646536227d/home/ertis/sergio/DQN_Atari_Multistep/pruebas.ipynb#W0sdnNjb2RlLXJlbW90ZQ%3D%3D?line=15'>16</a>\u001b[0m \u001b[39mimport\u001b[39;00m \u001b[39mmodelos\u001b[39;00m\n\u001b[1;32m     <a href='vscode-notebook-cell://ssh-remote%2B7b22686f73744e616d65223a224e6f646536227d/home/ertis/sergio/DQN_Atari_Multistep/pruebas.ipynb#W0sdnNjb2RlLXJlbW90ZQ%3D%3D?line=16'>17</a>\u001b[0m memoria  \u001b[39m=\u001b[39m Memory(\u001b[39m100000\u001b[39m)\n\u001b[0;32m---> <a href='vscode-notebook-cell://ssh-remote%2B7b22686f73744e616d65223a224e6f646536227d/home/ertis/sergio/DQN_Atari_Multistep/pruebas.ipynb#W0sdnNjb2RlLXJlbW90ZQ%3D%3D?line=18'>19</a>\u001b[0m env \u001b[39m=\u001b[39m make_atari(\u001b[39m\"\u001b[39;49m\u001b[39mBreakoutgNoFrameskip-v4\u001b[39;49m\u001b[39m\"\u001b[39;49m)\n\u001b[1;32m     <a href='vscode-notebook-cell://ssh-remote%2B7b22686f73744e616d65223a224e6f646536227d/home/ertis/sergio/DQN_Atari_Multistep/pruebas.ipynb#W0sdnNjb2RlLXJlbW90ZQ%3D%3D?line=19'>20</a>\u001b[0m \u001b[39m# Warp the frames, grey scale, stake four frame and scale to smaller ratio\u001b[39;00m\n\u001b[1;32m     <a href='vscode-notebook-cell://ssh-remote%2B7b22686f73744e616d65223a224e6f646536227d/home/ertis/sergio/DQN_Atari_Multistep/pruebas.ipynb#W0sdnNjb2RlLXJlbW90ZQ%3D%3D?line=20'>21</a>\u001b[0m env \u001b[39m=\u001b[39m wrap_deepmind(env, frame_stack\u001b[39m=\u001b[39m\u001b[39mTrue\u001b[39;00m, scale\u001b[39m=\u001b[39m\u001b[39mTrue\u001b[39;00m)\n",
      "File \u001b[0;32m~/sergio/DQN_Atari_Multistep/baselines/common/atari_wrappers.py:267\u001b[0m, in \u001b[0;36mmake_atari\u001b[0;34m(env_id, max_episode_steps)\u001b[0m\n\u001b[1;32m    266\u001b[0m \u001b[39mdef\u001b[39;00m \u001b[39mmake_atari\u001b[39m(env_id, max_episode_steps\u001b[39m=\u001b[39m\u001b[39mNone\u001b[39;00m):\n\u001b[0;32m--> 267\u001b[0m     env \u001b[39m=\u001b[39m gym\u001b[39m.\u001b[39;49mmake(env_id)\n\u001b[1;32m    268\u001b[0m     \u001b[39massert\u001b[39;00m \u001b[39m'\u001b[39m\u001b[39mNoFrameskip\u001b[39m\u001b[39m'\u001b[39m \u001b[39min\u001b[39;00m env\u001b[39m.\u001b[39mspec\u001b[39m.\u001b[39mid\n\u001b[1;32m    269\u001b[0m     env \u001b[39m=\u001b[39m NoopResetEnv(env, noop_max\u001b[39m=\u001b[39m\u001b[39m30\u001b[39m)\n",
      "File \u001b[0;32m~/sergio/env/lib/python3.8/site-packages/gym/envs/registration.py:235\u001b[0m, in \u001b[0;36mmake\u001b[0;34m(id, **kwargs)\u001b[0m\n\u001b[1;32m    234\u001b[0m \u001b[39mdef\u001b[39;00m \u001b[39mmake\u001b[39m(\u001b[39mid\u001b[39m, \u001b[39m*\u001b[39m\u001b[39m*\u001b[39mkwargs):\n\u001b[0;32m--> 235\u001b[0m     \u001b[39mreturn\u001b[39;00m registry\u001b[39m.\u001b[39;49mmake(\u001b[39mid\u001b[39;49m, \u001b[39m*\u001b[39;49m\u001b[39m*\u001b[39;49mkwargs)\n",
      "File \u001b[0;32m~/sergio/env/lib/python3.8/site-packages/gym/envs/registration.py:128\u001b[0m, in \u001b[0;36mEnvRegistry.make\u001b[0;34m(self, path, **kwargs)\u001b[0m\n\u001b[1;32m    126\u001b[0m \u001b[39melse\u001b[39;00m:\n\u001b[1;32m    127\u001b[0m     logger\u001b[39m.\u001b[39minfo(\u001b[39m\"\u001b[39m\u001b[39mMaking new env: \u001b[39m\u001b[39m%s\u001b[39;00m\u001b[39m\"\u001b[39m, path)\n\u001b[0;32m--> 128\u001b[0m spec \u001b[39m=\u001b[39m \u001b[39mself\u001b[39;49m\u001b[39m.\u001b[39;49mspec(path)\n\u001b[1;32m    129\u001b[0m env \u001b[39m=\u001b[39m spec\u001b[39m.\u001b[39mmake(\u001b[39m*\u001b[39m\u001b[39m*\u001b[39mkwargs)\n\u001b[1;32m    130\u001b[0m \u001b[39mreturn\u001b[39;00m env\n",
      "File \u001b[0;32m~/sergio/env/lib/python3.8/site-packages/gym/envs/registration.py:203\u001b[0m, in \u001b[0;36mEnvRegistry.spec\u001b[0;34m(self, path)\u001b[0m\n\u001b[1;32m    197\u001b[0m     \u001b[39mraise\u001b[39;00m error\u001b[39m.\u001b[39mUnregisteredEnv(\n\u001b[1;32m    198\u001b[0m         \u001b[39m\"\u001b[39m\u001b[39mToytext environment \u001b[39m\u001b[39m{}\u001b[39;00m\u001b[39m has been moved out of Gym. Install it via `pip install gym-legacy-toytext` and add `import gym_toytext` before using it.\u001b[39m\u001b[39m\"\u001b[39m\u001b[39m.\u001b[39mformat(\n\u001b[1;32m    199\u001b[0m             \u001b[39mid\u001b[39m\n\u001b[1;32m    200\u001b[0m         )\n\u001b[1;32m    201\u001b[0m     )\n\u001b[1;32m    202\u001b[0m \u001b[39melse\u001b[39;00m:\n\u001b[0;32m--> 203\u001b[0m     \u001b[39mraise\u001b[39;00m error\u001b[39m.\u001b[39mUnregisteredEnv(\u001b[39m\"\u001b[39m\u001b[39mNo registered env with id: \u001b[39m\u001b[39m{}\u001b[39;00m\u001b[39m\"\u001b[39m\u001b[39m.\u001b[39mformat(\u001b[39mid\u001b[39m))\n",
      "\u001b[0;31mUnregisteredEnv\u001b[0m: No registered env with id: BreakoutgNoFrameskip-v4"
     ]
    }
   ],
   "source": [
    "import gym\n",
    "import sys\n",
    "import os\n",
    "from collections import deque\n",
    "import tensorflow\n",
    "import numpy as np\n",
    "import matplotlib.pyplot as plt\n",
    "from tensorflow.keras import layers\n",
    "from tensorflow import keras\n",
    "from baselines.common.atari_wrappers import make_atari, wrap_deepmind\n",
    "from memoria import Memory\n",
    "from itertools import count\n",
    "import datetime\n",
    "import pickle\n",
    "import random\n",
    "import modelos\n",
    "memoria  = Memory(100000)\n",
    "\n",
    "env = make_atari(\"BreakoutNoFrameskip-v4\")\n",
    "# Warp the frames, grey scale, stake four frame and scale to smaller ratio\n",
    "env = wrap_deepmind(env, frame_stack=True, scale=True)\n",
    "print(env.get_action_meanings())\n",
    "env.seed(42)\n",
    "\n",
    "env2 = make_atari(\"PongNoFrameskip-v4\")\n",
    "# Warp the frames, grey scale, stake four frame and scale to smaller ratio\n",
    "env2 = wrap_deepmind(env2, frame_stack=True, scale=True)\n",
    "print(env2.get_action_meanings())\n",
    "env2.seed(42)\n",
    "\n",
    "# red_politica = modelos.crear_modelo2(4)\n",
    "# red_objetivo = modelos.crear_modelo2(4)\n",
    "\n",
    "# optimizer = keras.optimizers.Adam(learning_rate=0.00025, clipnorm=1.0)\n",
    "# funcionPerdida = keras.losses.Huber()"
   ]
  }
 ],
 "metadata": {
  "kernelspec": {
   "display_name": "Python 3.8.10 ('env': venv)",
   "language": "python",
   "name": "python3"
  },
  "language_info": {
   "codemirror_mode": {
    "name": "ipython",
    "version": 3
   },
   "file_extension": ".py",
   "mimetype": "text/x-python",
   "name": "python",
   "nbconvert_exporter": "python",
   "pygments_lexer": "ipython3",
   "version": "3.8.10"
  },
  "orig_nbformat": 4,
  "vscode": {
   "interpreter": {
    "hash": "126138c1a1422bd3c098ddbe5dc3ab52dd2e1e18f55c4eb4cba4d9cf3f32664f"
   }
  }
 },
 "nbformat": 4,
 "nbformat_minor": 2
}
